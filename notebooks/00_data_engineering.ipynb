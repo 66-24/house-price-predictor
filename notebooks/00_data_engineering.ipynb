{
 "cells": [
  {
   "cell_type": "code",
   "id": "736994df",
   "metadata": {
    "ExecuteTime": {
     "end_time": "2025-07-19T00:00:42.970392Z",
     "start_time": "2025-07-19T00:00:42.965703Z"
    }
   },
   "source": [
    "# -------------------------------------------------------------\n",
    "# Step 1: Import necessary libraries\n",
    "# -------------------------------------------------------------\n",
    "import pandas as pd\n",
    "import matplotlib.pyplot as plt\n",
    "import seaborn as sns\n",
    "\n",
    "sns.set_theme(style=\"whitegrid\")\n",
    "print(\"✅ Libraries imported.\")\n"
   ],
   "outputs": [
    {
     "name": "stdout",
     "output_type": "stream",
     "text": [
      "✅ Libraries imported.\n"
     ]
    }
   ],
   "execution_count": 3
  },
  {
   "cell_type": "code",
   "id": "62836f25",
   "metadata": {
    "ExecuteTime": {
     "end_time": "2025-07-19T00:00:43.005467Z",
     "start_time": "2025-07-19T00:00:42.996711Z"
    }
   },
   "source": [
    "# -------------------------------------------------------------\n",
    "# Step 2: Load the raw dataset\n",
    "# -------------------------------------------------------------\n",
    "print(\"📥 Loading dataset...\")\n",
    "\n",
    "df = pd.read_csv(\"../data/processed/cleaned_house_data.csv\")\n",
    "\n",
    "print(\"✅ Dataset loaded successfully!\")\n",
    "print(\"Initial data shape:\", df.shape)\n",
    "print(\"\\n🔍 Preview of data:\")\n",
    "print(df.head())\n"
   ],
   "outputs": [
    {
     "name": "stdout",
     "output_type": "stream",
     "text": [
      "📥 Loading dataset...\n",
      "✅ Dataset loaded successfully!\n",
      "Initial data shape: (77, 7)\n",
      "\n",
      "🔍 Preview of data:\n",
      "     price  sqft  bedrooms  bathrooms    location  year_built  condition\n",
      "0   495000  1527         2        1.5      Suburb        1956       Good\n",
      "1   752000  2526         3        2.5    Downtown        1998  Excellent\n",
      "2   319000  1622         2        1.5       Rural        1975       Fair\n",
      "3  1210000  3102         4        3.0  Waterfront        2005  Excellent\n",
      "4   462000  1835         2        2.0       Urban        1982       Good\n"
     ]
    }
   ],
   "execution_count": 4
  },
  {
   "cell_type": "code",
   "id": "c2b950e8",
   "metadata": {
    "ExecuteTime": {
     "end_time": "2025-07-19T00:00:43.082635Z",
     "start_time": "2025-07-19T00:00:43.066712Z"
    }
   },
   "source": [
    "# -------------------------------------------------------------\n",
    "# Step 3: Understand structure — schema, datatypes, nulls\n",
    "# -------------------------------------------------------------\n",
    "print(\"\\n📊 Data types and null value check:\")\n",
    "print(df.info())\n",
    "\n",
    "print(\"\\n❓ Any missing values?\")\n",
    "print(df.isnull().sum())\n",
    "print(\"-\"*10 + \"Non Null counts\" +  \"-\"*10)\n",
    "print(df.isna().count())\n"
   ],
   "outputs": [
    {
     "name": "stdout",
     "output_type": "stream",
     "text": [
      "\n",
      "📊 Data types and null value check:\n",
      "<class 'pandas.core.frame.DataFrame'>\n",
      "RangeIndex: 77 entries, 0 to 76\n",
      "Data columns (total 7 columns):\n",
      " #   Column      Non-Null Count  Dtype  \n",
      "---  ------      --------------  -----  \n",
      " 0   price       77 non-null     int64  \n",
      " 1   sqft        77 non-null     int64  \n",
      " 2   bedrooms    77 non-null     int64  \n",
      " 3   bathrooms   77 non-null     float64\n",
      " 4   location    77 non-null     object \n",
      " 5   year_built  77 non-null     int64  \n",
      " 6   condition   77 non-null     object \n",
      "dtypes: float64(1), int64(4), object(2)\n",
      "memory usage: 4.3+ KB\n",
      "None\n",
      "\n",
      "❓ Any missing values?\n",
      "price         0\n",
      "sqft          0\n",
      "bedrooms      0\n",
      "bathrooms     0\n",
      "location      0\n",
      "year_built    0\n",
      "condition     0\n",
      "dtype: int64\n",
      "----------Non Null counts----------\n",
      "price         77\n",
      "sqft          77\n",
      "bedrooms      77\n",
      "bathrooms     77\n",
      "location      77\n",
      "year_built    77\n",
      "condition     77\n",
      "dtype: int64\n"
     ]
    }
   ],
   "execution_count": 5
  },
  {
   "cell_type": "code",
   "id": "07db6129",
   "metadata": {
    "ExecuteTime": {
     "end_time": "2025-07-19T00:00:43.158900Z",
     "start_time": "2025-07-19T00:00:43.153217Z"
    }
   },
   "source": [
    "# Step 3: Drop malformed rows (like the one with missing columns)\n",
    "df = df.dropna()\n",
    "df = df[df['price'] > 10000]  # basic sanity checks\n",
    "df = df[df['sqft'] > 200]"
   ],
   "outputs": [],
   "execution_count": 6
  },
  {
   "cell_type": "code",
   "id": "bdfc4ed3",
   "metadata": {
    "ExecuteTime": {
     "end_time": "2025-07-19T00:00:43.217453Z",
     "start_time": "2025-07-19T00:00:43.212064Z"
    }
   },
   "source": [
    "# -------------------------------------------------------------\n",
    "# Step 4: Standardize column names (basic cleanup)\n",
    "# -------------------------------------------------------------\n",
    "print(\"\\n🧹 Cleaning column names (lowercase, underscores)...\")\n",
    "\n",
    "df.columns = df.columns.str.strip().str.lower().str.replace(\" \", \"_\")\n",
    "print(\"✅ Column names standardized:\")\n",
    "print(df.columns.tolist())\n"
   ],
   "outputs": [
    {
     "name": "stdout",
     "output_type": "stream",
     "text": [
      "\n",
      "🧹 Cleaning column names (lowercase, underscores)...\n",
      "✅ Column names standardized:\n",
      "['price', 'sqft', 'bedrooms', 'bathrooms', 'location', 'year_built', 'condition']\n"
     ]
    }
   ],
   "execution_count": 7
  },
  {
   "cell_type": "code",
   "id": "a68cd985",
   "metadata": {
    "ExecuteTime": {
     "end_time": "2025-07-19T00:00:43.293398Z",
     "start_time": "2025-07-19T00:00:43.275553Z"
    }
   },
   "source": [
    "# -------------------------------------------------------------\n",
    "# Step 5: Basic stats check (spot outliers or issues)\n",
    "# -------------------------------------------------------------\n",
    "print(\"\\n📈 Basic summary stats for numeric columns:\")\n",
    "print(df.describe())\n"
   ],
   "outputs": [
    {
     "name": "stdout",
     "output_type": "stream",
     "text": [
      "\n",
      "📈 Basic summary stats for numeric columns:\n",
      "              price         sqft   bedrooms  bathrooms   year_built\n",
      "count  7.700000e+01    77.000000  77.000000  77.000000    77.000000\n",
      "mean   5.532338e+05  2068.000000   2.701299   2.025974  1979.025974\n",
      "std    2.651523e+05   522.756711   0.689488   0.643265    17.427273\n",
      "min    2.490000e+05  1350.000000   2.000000   1.000000  1947.000000\n",
      "25%    3.680000e+05  1680.000000   2.000000   1.500000  1965.000000\n",
      "50%    4.950000e+05  1950.000000   3.000000   2.000000  1981.000000\n",
      "75%    6.200000e+05  2280.000000   3.000000   2.500000  1992.000000\n",
      "max    1.250000e+06  3250.000000   4.000000   3.500000  2010.000000\n"
     ]
    }
   ],
   "execution_count": 8
  },
  {
   "cell_type": "code",
   "id": "aad7fb79",
   "metadata": {
    "ExecuteTime": {
     "end_time": "2025-07-19T00:00:43.551058Z",
     "start_time": "2025-07-19T00:00:43.331946Z"
    }
   },
   "source": [
    "# -------------------------------------------------------------\n",
    "# Step 6: Visual check for distributions (e.g. price, sqft)\n",
    "# -------------------------------------------------------------\n",
    "print(\"\\n📊 Plotting distribution of house prices...\")\n",
    "\n",
    "plt.figure(figsize=(8, 5))\n",
    "sns.histplot(df[\"price\"], kde=True, bins=10)\n",
    "plt.title(\"Distribution of House Prices\")\n",
    "plt.xlabel(\"Price\")\n",
    "plt.ylabel(\"Count\")\n",
    "plt.show()\n"
   ],
   "outputs": [
    {
     "name": "stdout",
     "output_type": "stream",
     "text": [
      "\n",
      "📊 Plotting distribution of house prices...\n"
     ]
    },
    {
     "data": {
      "text/plain": [
       "<Figure size 800x500 with 1 Axes>"
      ],
      "image/png": "[encoded data removed]"
     },
     "metadata": {},
     "output_type": "display_data"
    }
   ],
   "execution_count": 9
  },
  {
   "cell_type": "code",
   "id": "7e596b70",
   "metadata": {
    "ExecuteTime": {
     "end_time": "2025-07-19T00:00:43.576709Z",
     "start_time": "2025-07-19T00:00:43.569935Z"
    }
   },
   "source": [
    "# -------------------------------------------------------------\n",
    "# Step 7: Check for obvious data issues\n",
    "# -------------------------------------------------------------\n",
    "print(\"\\n🔍 Looking for negative or unrealistic values...\")\n",
    "\n",
    "for col in ['price', 'sqft', 'bedrooms', 'bathrooms', 'year_built']:\n",
    "    invalid = df[df[col] < 0]\n",
    "    if not invalid.empty:\n",
    "        print(f\"⚠️ Found negative values in {col}:\\n{invalid}\")\n",
    "    else:\n",
    "        print(f\"✅ No negative values found in {col}.\")\n"
   ],
   "outputs": [
    {
     "name": "stdout",
     "output_type": "stream",
     "text": [
      "\n",
      "🔍 Looking for negative or unrealistic values...\n",
      "✅ No negative values found in price.\n",
      "✅ No negative values found in sqft.\n",
      "✅ No negative values found in bedrooms.\n",
      "✅ No negative values found in bathrooms.\n",
      "✅ No negative values found in year_built.\n"
     ]
    }
   ],
   "execution_count": 10
  },
  {
   "cell_type": "code",
   "id": "539e313e",
   "metadata": {
    "ExecuteTime": {
     "end_time": "2025-07-19T00:00:43.635681Z",
     "start_time": "2025-07-19T00:00:43.631306Z"
    }
   },
   "source": [
    "# -------------------------------------------------------------\n",
    "# Step 8: Drop duplicates if any\n",
    "# -------------------------------------------------------------\n",
    "print(\"\\n🧹 Checking for duplicate rows...\")\n",
    "\n",
    "duplicates = df.duplicated().sum()\n",
    "if duplicates > 0:\n",
    "    print(f\"⚠️ Found {duplicates} duplicate rows. Dropping them...\")\n",
    "    df = df.drop_duplicates()\n",
    "else:\n",
    "    print(\"✅ No duplicate rows found.\")\n"
   ],
   "outputs": [
    {
     "name": "stdout",
     "output_type": "stream",
     "text": [
      "\n",
      "🧹 Checking for duplicate rows...\n",
      "✅ No duplicate rows found.\n"
     ]
    }
   ],
   "execution_count": 11
  },
  {
   "cell_type": "code",
   "id": "f2ba22c2",
   "metadata": {
    "ExecuteTime": {
     "end_time": "2025-07-19T00:00:43.693434Z",
     "start_time": "2025-07-19T00:00:43.687641Z"
    }
   },
   "source": [
    "# -------------------------------------------------------------\n",
    "# Step 9: Save the cleaned version (optional here)\n",
    "# -------------------------------------------------------------\n",
    "print(\"\\n💾 Saving cleaned version to interim file (optional step)...\")\n",
    "\n",
    "# Uncomment if you want to save at this point\n",
    "df.to_csv(\"../data/processed/cleaned_house_data_v1.csv\", index=False)\n",
    "print(\"✅ Data engineering preprocessing complete!\")\n"
   ],
   "outputs": [
    {
     "name": "stdout",
     "output_type": "stream",
     "text": [
      "\n",
      "💾 Saving cleaned version to interim file (optional step)...\n",
      "✅ Data engineering preprocessing complete!\n"
     ]
    }
   ],
   "execution_count": 12
  }
 ],
 "metadata": {
  "kernelspec": {
   "display_name": "Python 3",
   "language": "python",
   "name": "python3"
  },
  "language_info": {
   "codemirror_mode": {
    "name": "ipython",
    "version": 3
   },
   "file_extension": ".py",
   "mimetype": "text/x-python",
   "name": "python",
   "nbconvert_exporter": "python",
   "pygments_lexer": "ipython3",
   "version": "3.11.13"
  }
 },
 "nbformat": 4,
 "nbformat_minor": 5
}
